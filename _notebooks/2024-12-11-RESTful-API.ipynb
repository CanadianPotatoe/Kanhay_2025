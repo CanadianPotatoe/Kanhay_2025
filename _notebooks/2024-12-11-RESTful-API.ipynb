{
 "cells": [
  {
   "cell_type": "raw",
   "metadata": {
    "vscode": {
     "languageId": "raw"
    }
   },
   "source": [
    "---\n",
    "toc: false\n",
    "comments: true\n",
    "layout: post\n",
    "title: RESTful API's\n",
    "description: Stuff to Show to Show Stuff\n",
    "permalink: /csp/RESTful-API\n",
    "---"
   ]
  },
  {
   "cell_type": "markdown",
   "metadata": {},
   "source": [
    "[**Link to Flask Notebook**](/Kanhay_2025/2024/12/02/python-flask_in_jupyter_IPYNB_2_.html)"
   ]
  },
  {
   "cell_type": "markdown",
   "metadata": {},
   "source": [
    "##  Step 2"
   ]
  },
  {
   "cell_type": "code",
   "execution_count": null,
   "metadata": {},
   "outputs": [],
   "source": [
    "from flask import Blueprint, request, jsonify, g\n",
    "from flask_restful import Api, Resource\n",
    "\n",
    "kanhay_api = Blueprint('kanhay_api', __name__, url_prefix='/api')\n",
    "api = Api(kanhay_api)\n",
    "\n",
    "class KanhayAPI:\n",
    "    class _K_Person(Resource):\n",
    "        def get(self):\n",
    "            return jsonify({\n",
    "                \"name\": \"Kanhay Patil\",\n",
    "                \"age\": 16,\n",
    "                \"classes\": [\"Honors Principles of Engineering\", \"Advanced Placement Computer Science Principles\", \"Advance Placement English Seminar 1\", \"Advance Placement AP Calculus AB\", \"Advance Placement Physics C Mechanics\"],\n",
    "                \"favorite\": {\n",
    "                    \"color\": \"Blue\",\n",
    "                    \"number\": 7\n",
    "                }\n",
    "            })\n",
    "    \n",
    "\n",
    "api.add_resource(KanhayAPI._K_Person, \"/kanhay\")"
   ]
  },
  {
   "cell_type": "markdown",
   "metadata": {},
   "source": [
    "<img src=\"/Kanhay_2025/images/Isolated.png\" />"
   ]
  },
  {
   "cell_type": "markdown",
   "metadata": {},
   "source": [
    "## Step 3"
   ]
  },
  {
   "cell_type": "code",
   "execution_count": null,
   "metadata": {},
   "outputs": [],
   "source": [
    "@app.route('/api/theme', methods=['POST'])\n",
    "def change_theme():\n",
    "    data = request.get_json()\n",
    "    auth = request.cookies.get(\"jwt_python_flask\")\n",
    "\n",
    "    jwtDecoded = jwt.decode(auth, current_app.config[\"SECRET_KEY\"], algorithms=\"HS256\")\n",
    "    values = list(jwtDecoded.values())\n",
    "    dui = values[0]\n",
    "\n",
    "    user = User.query.filter_by(_uid=dui).first()\n",
    "    if user:\n",
    "        _values = list(data.values())\n",
    "        user._theme_mode = _values[0]  # Directly setting the attribute\n",
    "        db.session.commit()  # Make sure to commit the transaction\n",
    "        return jsonify({\"response\": \"good\"}), 200\n",
    "    else:\n",
    "        return jsonify({\"response\": \"user not found\"}), 404"
   ]
  }
 ],
 "metadata": {
  "language_info": {
   "name": "python"
  }
 },
 "nbformat": 4,
 "nbformat_minor": 2
}
