{
 "cells": [
  {
   "cell_type": "raw",
   "metadata": {
    "vscode": {
     "languageId": "raw"
    }
   },
   "source": [
    "---\n",
    "toc: false\n",
    "comments: true\n",
    "layout: post\n",
    "title: 3.4 Objectives\n",
    "description: Padwins Homework\n",
    "permalink: /csp/padwinmypadwin\n",
    "---"
   ]
  },
  {
   "cell_type": "code",
   "execution_count": 3,
   "metadata": {},
   "outputs": [
    {
     "name": "stdout",
     "output_type": "stream",
     "text": [
      "shift used 13\n",
      "Result: hjh\n"
     ]
    }
   ],
   "source": [
    "import random\n",
    "def caesar_cipher(text, shift, mode):\n",
    "    result = \"\"\n",
    "    for char in text:\n",
    "        if char.isalpha():  # This part of the code only ecnrypts letters\n",
    "            shift_amount = shift if mode == \"encrypt\" else -shift\n",
    "            new_char = chr(((ord(char.lower()) - 97 + shift_amount) % 26) + 97)\n",
    "            result += new_char.upper() if char.isupper() else new_char\n",
    "        else:\n",
    "            result += char  # this keeps the spaces and position unchanged\n",
    "    return result\n",
    "\n",
    "# Here is the code for getting the user input\n",
    "mode = input(\"Do you want to encrypt or decrypt? \").strip().lower()\n",
    "\n",
    "\n",
    "# And finally the code performs the encryption/decryption\n",
    "shift= random.randint(1,25)\n",
    "print (f\"shift used {shift}\")\n",
    "message=input(\"enter message: \")\n",
    "output = caesar_cipher(message, shift, mode)\n",
    "print(f\"Result: {output}\")\n"
   ]
  }
 ],
 "metadata": {
  "kernelspec": {
   "display_name": "venv",
   "language": "python",
   "name": "python3"
  },
  "language_info": {
   "codemirror_mode": {
    "name": "ipython",
    "version": 3
   },
   "file_extension": ".py",
   "mimetype": "text/x-python",
   "name": "python",
   "nbconvert_exporter": "python",
   "pygments_lexer": "ipython3",
   "version": "3.12.3"
  }
 },
 "nbformat": 4,
 "nbformat_minor": 2
}
