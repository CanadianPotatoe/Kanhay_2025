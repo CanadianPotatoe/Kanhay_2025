{
 "cells": [
  {
   "cell_type": "raw",
   "metadata": {
    "vscode": {
     "languageId": "raw"
    }
   },
   "source": [
    "---\n",
    "toc: false\n",
    "comments: true\n",
    "layout: post\n",
    "title: Trimester 2 Final\n",
    "description: test\n",
    "permalink: /csp/Trimester2Final\n",
    "---"
   ]
  },
  {
   "cell_type": "markdown",
   "metadata": {},
   "source": [
    "-------------------------------------------"
   ]
  },
  {
   "cell_type": "markdown",
   "metadata": {},
   "source": [
    "# 5 Key Contributions Over 12 Weeks  \n",
    "\n",
    "## 1. Dynamic Theme Management (CRUD Operations)  \n",
    "[CRUD Implementation](https://canadianpotatoe.github.io/Kanhay_2025/csp/CRUD)  \n",
    "I designed an interactive UI color-switching system to enhance user engagement. While default themes were available, I implemented a frontend color picker and a theme template, allowing each user to have a personalized theme. Users could update their themes seamlessly, and the frontend dynamically read and displayed these changes.  \n",
    "\n",
    "## 2. Deployment Administration  \n",
    "As the team's Deployment Admin, I was responsible for successfully deploying our frontend. I first troubleshot and resolved local build issues that were preventing deployment. Once the build was stable, I used Cockpit to deploy the website efficiently, ensuring a smooth launch.  \n",
    "\n",
    "## 3. Deployment Blog  \n",
    "[Deployment Blog](https://dnhs-neptune.github.io/neptune_frontend/deployment)  \n",
    "To support my team, I created a detailed deployment blog documenting the challenges I encountered and their solutions. I also included issues faced by my teammates and provided clear instructions on updating backend code. This allowed the team to work independently without relying solely on me for future updates.  \n",
    "\n",
    "## 4. Agile Methodology Implementation  \n",
    "[User Story & Agile Planning](https://github.com/DNHS-Neptune/neptune_frontend/issues/6)  \n",
    "At the start of the trimester, I developed a **User Story** to outline my feature goals and execution plan. I then maintained a **burndown list** and a **Kanban board** to systematically track progress, prioritize tasks, and stay organized throughout development.  \n",
    "\n",
    "## 5. Issue Tracking and Project Management  \n",
    "- [Burndown List](https://github.com/DNHS-Neptune/neptune_frontend/issues/29)  \n",
    "- [Feature CRUD Blog](https://canadianpotatoe.github.io/Kanhay_2025/csp/CRUD)  \n",
    "- [Self-Assessment](https://github.com/DNHS-Neptune/neptune_frontend/issues/23)  \n",
    "\n",
    "To stay accountable and structured, I created various **GitHub Issues**, including one for my **User Story**, issues for specific features, burndown lists, and even a **self-assessment issue** to reflect on my progress. This method helped streamline development and ensure no tasks were overlooked.  \n"
   ]
  },
  {
   "cell_type": "markdown",
   "metadata": {},
   "source": [
    "-------------------------------------------"
   ]
  },
  {
   "cell_type": "markdown",
   "metadata": {},
   "source": [
    "## N@tM Feedback  \n",
    "\n",
    "One piece of feedback we received was from **Yash Parikh**:  \n",
    "![Yash Parikh](/Kanhay_2025/images/yash.png)  \n",
    "\n",
    "### Key Takeaway  \n",
    "> **\"One thing you could work on could be making a style sheet that's integrated with all of the pages.\"**  \n",
    "\n",
    "### **Next Steps for the Theme Feature**  \n",
    "Currently, the **theme system only updates the profile page**, but it does not apply to other pages of the website. The next step in improving this feature is to create a **global stylesheet** that ensures the selected theme is applied consistently across the entire site.  \n",
    "\n",
    "### **Planned Improvements**  \n",
    "- Ensure the **theme settings are fetched and applied** on every page the user visits.  \n",
    "- Implement a **global theme system** that affects all pages dynamically.  \n",
    "\n",
    "This improvement will enhance the **user experience**, making the theme system fully **integrated and seamless** across the application. \n"
   ]
  },
  {
   "cell_type": "markdown",
   "metadata": {},
   "source": [
    "-------------------------------------------"
   ]
  },
  {
   "cell_type": "markdown",
   "metadata": {},
   "source": [
    "## Customizable Themes\n",
    "\n",
    "Personalize the look and feel of Neptune to suit your preferences. Our customizable themes are designed to keep you engaged and focused on your work, making your experience both enjoyable and productive.\n",
    "\n",
    "Join Neptune today and become the most productive student you can be!"
   ]
  },
  {
   "cell_type": "markdown",
   "metadata": {},
   "source": [
    "### **CPT Requirements Table**  \n",
    "\n",
    "| **CPT Requirement**     | **Feature Embodying the Requirement** | **How This Feature Fulfills the Requirement** |\n",
    "|-------------------------|-----------------------------------|------------------------------------------|\n",
    "| **A List**             | Database stores multiple entries | The database stores and retrieves multiple programming languages as list items. |\n",
    "| **A Procedure**        | `initThemes()` function          | Initializes the database with test data, ensuring structured data setup. |\n",
    "| **A Call to the Procedure** | `fetchUserTheme()` function  | Calls an API endpoint to fetch data from the backend. |\n",
    "| **Selection**          | Conditional checks in API routes | Ensures valid data is processed before adding/updating database entries. |\n",
    "| **Iteration**          | `for` loops in Python & JavaScript | Loops iterate through database entries and frontend responses to process them. |\n",
    "| **Input from User**    | Users select their theme from the frontend | The selected theme gets saved to a template in the backend. |\n"
   ]
  },
  {
   "cell_type": "markdown",
   "metadata": {},
   "source": [
    "**`initThemes()` Function**  \n",
    "\n"
   ]
  },
  {
   "cell_type": "code",
   "execution_count": null,
   "metadata": {},
   "outputs": [],
   "source": [
    "def initThemes():  \n",
    "    with app.app_context():\n",
    "        \"\"\"Create database and tables\"\"\"\n",
    "        db.create_all()\n",
    "        \"\"\"Tester data for table\"\"\"\n",
    "        \n",
    "        t1 = Theme(theme='Red', css=\"testpath1\")\n",
    "        t2 = Theme(theme='Green', css=\"testpath2\")\n",
    "        themes = [t1, t2]\n",
    "        \n",
    "        for theme in themes:\n",
    "            try:\n",
    "                theme.create()\n",
    "            except IntegrityError:\n",
    "                '''Fails with bad or duplicate data'''\n",
    "                db.session.rollback()"
   ]
  },
  {
   "cell_type": "markdown",
   "metadata": {},
   "source": [
    "**`fetchUserTheme()` Function**\n"
   ]
  },
  {
   "cell_type": "code",
   "execution_count": null,
   "metadata": {
    "vscode": {
     "languageId": "javascript"
    }
   },
   "outputs": [],
   "source": [
    "async function fetchUserTheme() {\n",
    "    try {\n",
    "        const response = await fetch(`${pythonURI}/api/user`, fetchOptions);\n",
    "        if (!response.ok) throw new Error(`Failed to fetch theme: ${response.status}`);\n",
    "\n",
    "        const data = await response.json();\n",
    "        return data.theme_mode || null;\n",
    "    } catch (error) {\n",
    "        console.error(\"Error fetching theme:\", error);\n",
    "        return null;\n",
    "    }\n",
    "}"
   ]
  },
  {
   "cell_type": "markdown",
   "metadata": {},
   "source": [
    "# MCQ Review\n",
    "\n",
    "## Score Improvement  \n",
    "I scored **63/67**, which is an improvement from my previous **55/66**.  \n",
    "![MCQ Score](/Kanhay_2025/images/mcq.png)  \n",
    "\n",
    "## Questions I Missed  \n",
    "I got the following questions wrong:  \n",
    "\n",
    "- **Question 11 (2.B)** – Develop and Implement Algorithms  \n",
    "- **Question 21 (5.B)** – Investigate Computing Innovations  \n",
    "- **Question 62 (2.B)** – Develop and Implement Algorithms  \n",
    "- **Question 67 (4.C)** – Evaluate and Test Algorithms and Programs  \n",
    "\n",
    "## How I Improved  \n",
    "- My overall score improved compared to my last attempt.  \n",
    "- I dedicated around **2 hours** to completing the MCQ section.  \n",
    "\n",
    "## Areas for Improvement  \n",
    "- **Staying Focused** – I need to focus more on the test and avoid letting my mind wander.  \n",
    "- **Reading Carefully** – I zoned out on some questions and made careless mistakes.  \n",
    "- **Time Management** – I should optimize my approach to avoid spending unnecessary time on certain questions.  \n"
   ]
  },
  {
   "cell_type": "markdown",
   "metadata": {},
   "source": [
    "# Strengths and Weaknesses\n",
    "\n",
    "## Strengths  \n",
    "One of my main strengths is **problem-solving**. When debugging my code, I usually have a general idea of what to look for and systematically test potential issues using the console. If needed, I also use **Postman** to troubleshoot API requests and ensure my code functions correctly.  \n",
    "\n",
    "## Weaknesses  \n",
    "One major weakness is that I sometimes **struggle with understanding my own code**, especially in the numerous functions within my frontend. This happens due to a **lack of comments**, making it difficult to navigate my logic when I encounter roadblocks.  \n",
    "\n",
    "### How I Can Improve  \n",
    "- Develop the habit of **writing comments** to briefly explain what each function does.  \n",
    "- Add comments within complex functions to **clarify specific parts of the logic**.  \n",
    "- Avoid relying solely on function names, as they may not always provide enough context.  \n"
   ]
  },
  {
   "cell_type": "markdown",
   "metadata": {},
   "source": [
    "## Self Grade  \n",
    "\n",
    "| **Category**                              | **Max Points** | **Self Grade** | **Explanation** |\n",
    "|-------------------------------------------|--------------|-------------|--------------------------------------------------------------|\n",
    "| **5 Things Done Over 12 Weeks**          | 5            | 5.0         | I completed all tasks, including issue tracking, burndown updates, and presentations with full consistency. |\n",
    "| **Full Stack Project Demo & Feedback**   | 2            | 1.9         | The demo covered all CPT requirements, and I incorporated N@tM feedback well, but I could refine my presentation skills. |\n",
    "| **Project Feature Blog (CPT/FRQ Language)** | 1        | 0.9         | My blog explains the project clearly with CPT-aligned language, but a bit more depth in FRQ formatting could improve it. |\n",
    "| **MCQ Performance**                       | 1            | 0.8         | I performed well on MCQs, but I need to improve my focus and avoid careless mistakes. |\n",
    "| **Retrospective & Reflection**            | 1            | 0.2         | I provided a basic reflection but need to add more depth in analyzing my progress and future steps. |\n",
    "| **Self-Grade Justification**              | 1            | 0.5         | I fairly assessed my work with detailed reasoning, but I can refine my explanation further. |\n",
    "| **Overall Score**                         | **10**       | **9.3**     | I covered all required aspects but have areas for refinement in presentation, reflection, and justification. |\n"
   ]
  }
 ],
 "metadata": {
  "language_info": {
   "name": "python"
  }
 },
 "nbformat": 4,
 "nbformat_minor": 2
}
