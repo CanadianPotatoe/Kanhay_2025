{
 "cells": [
  {
   "cell_type": "raw",
   "metadata": {
    "vscode": {
     "languageId": "raw"
    }
   },
   "source": [
    "---\n",
    "toc: false\n",
    "comments: true\n",
    "layout: post\n",
    "title: Trimester 2 Final\n",
    "description: Tri 2 Final Blog\n",
    "permalink: /csp/Trimester2Final\n",
    "---"
   ]
  },
  {
   "cell_type": "markdown",
   "metadata": {},
   "source": [
    "-------------------------------------------"
   ]
  },
  {
   "cell_type": "markdown",
   "metadata": {},
   "source": [
    "# 5 Key Contributions Over 12 Weeks  \n",
    "\n",
    "## 1. Dynamic Theme Management (CRUD Operations)  \n",
    "[CRUD Implementation](https://canadianpotatoe.github.io/Kanhay_2025/csp/CRUD)  \n",
    "I designed an interactive UI color-switching system to enhance user engagement. While default themes were available, I implemented a frontend color picker and a theme template, allowing each user to have a personalized theme. Users could update their themes seamlessly, and the frontend dynamically read and displayed these changes.  \n",
    "\n",
    "## 2. Deployment Administration  \n",
    "[Deployment Blog](https://dnhs-neptune.github.io/neptune_frontend/deployment)  \n",
    "As the team's Deployment Admin, I was responsible for successfully deploying our frontend. I first troubleshot and resolved local build issues that were preventing deployment. Once the build was stable, I used Cockpit to deploy the website efficiently, ensuring a smooth launch. To support my team, I created a detailed deployment blog documenting the challenges I encountered and their solutions. I also included issues faced by my teammates and provided clear instructions on updating backend code. This allowed the team to work independently without relying solely on me for future updates. \n",
    "\n",
    "## API Development\n",
    "During the trimester, I developed my own API, a completely new experience for me. I structured it by adding files to the models and API folders, defining methods to interact with a custom database table I created. This API enabled seamless communication between the frontend and backend, allowing users to efficiently manage and update their theme settings. \n",
    "\n",
    "## 4. Agile Methodology Implementation  \n",
    "[User Story & Agile Planning](https://github.com/DNHS-Neptune/neptune_frontend/issues/6)  \n",
    "![Kanban Board](/Kanhay_2025/images/kanbanboard.png)\n",
    "\n",
    "At the start of the trimester, I developed a **User Story** to outline my feature goals and execution plan. I then maintained a **burndown list** and a **Kanban board** to systematically track progress, prioritize tasks, and stay organized throughout development.  \n",
    "\n",
    "## 5. Issue Tracking and Project Management  \n",
    "- [Burndown List](https://github.com/DNHS-Neptune/neptune_frontend/issues/29)  \n",
    "- [Feature CRUD Blog](https://canadianpotatoe.github.io/Kanhay_2025/csp/CRUD)  \n",
    "- [Self-Assessment](https://github.com/DNHS-Neptune/neptune_frontend/issues/23)  \n",
    "To stay accountable and structured, I created various **GitHub Issues**, including one for my **User Story**, issues for specific features, burndown lists, and even a **self-assessment issue** to reflect on my progress. This method helped streamline development and ensure no tasks were overlooked.  \n"
   ]
  },
  {
   "cell_type": "markdown",
   "metadata": {},
   "source": [
    "-------------------------------------------"
   ]
  },
  {
   "cell_type": "markdown",
   "metadata": {},
   "source": [
    "## N@tM Feedback  \n",
    "\n",
    "One piece of feedback we received was from **Yash Parikh**:  \n",
    "![Yash Parikh](/Kanhay_2025/images/yash.png)  \n",
    "\n",
    "### Key Takeaway  \n",
    "> **\"One thing you could work on could be making a style sheet that's integrated with all of the pages.\"**  \n",
    "\n",
    "### **Next Steps for the Theme Feature**  \n",
    "Currently, the **theme system only updates the profile page**, but it does not apply to other pages of the website. The next step in improving this feature is to create a **global stylesheet** that ensures the selected theme is applied consistently across the entire site.  \n",
    "\n",
    "### **Planned Improvements**  \n",
    "- Ensure the **theme settings are fetched and applied** on every page the user visits.  \n",
    "- Implement a **global theme system** that affects all pages dynamically.  \n",
    "\n",
    "This improvement will enhance the **user experience**, making the theme system fully **integrated and seamless** across the application. \n"
   ]
  },
  {
   "cell_type": "markdown",
   "metadata": {},
   "source": [
    "-------------------------------------------"
   ]
  },
  {
   "cell_type": "markdown",
   "metadata": {},
   "source": [
    "# MCQ Review\n",
    "\n",
    "## Score Improvement  \n",
    "I scored **63/67**, which is an improvement from my previous **55/66**.  \n",
    "![MCQ Score](/Kanhay_2025/images/mcq.png)  \n",
    "\n",
    "## Questions I Missed  \n",
    "I got the following questions wrong:  \n",
    "\n",
    "- **Question 11 (2.B)** – Develop and Implement Algorithms  \n",
    "- **Question 21 (5.B)** – Investigate Computing Innovations  \n",
    "- **Question 62 (2.B)** – Develop and Implement Algorithms  \n",
    "- **Question 67 (4.C)** – Evaluate and Test Algorithms and Programs  \n",
    "\n",
    "## How I Improved  \n",
    "- My overall score improved compared to my last attempt.  \n",
    "- I dedicated around **2 hours** to completing the MCQ section.  \n",
    "\n",
    "## Areas for Improvement  \n",
    "- **Staying Focused** – I need to focus more on the test and avoid letting my mind wander.  \n",
    "- **Reading Carefully** – I zoned out on some questions and made careless mistakes.  \n",
    "- **Time Management** – I should optimize my approach to avoid spending unnecessary time on certain questions.  \n"
   ]
  },
  {
   "cell_type": "markdown",
   "metadata": {},
   "source": [
    "[ONWARD](https://canadianpotatoe.github.io/Kanhay_2025/csp/featureoview) "
   ]
  },
  {
   "cell_type": "markdown",
   "metadata": {},
   "source": []
  }
 ],
 "metadata": {
  "language_info": {
   "name": "python"
  }
 },
 "nbformat": 4,
 "nbformat_minor": 2
}
