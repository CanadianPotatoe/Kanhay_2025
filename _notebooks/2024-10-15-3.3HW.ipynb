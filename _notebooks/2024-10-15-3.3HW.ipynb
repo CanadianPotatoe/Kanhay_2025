{
 "cells": [
  {
   "cell_type": "raw",
   "metadata": {},
   "source": [
    "---\n",
    "layout: post\n",
    "title: 3.3 HW\n",
    "description: HW for 3.3\n",
    "permalink: /posts/3.3HW\n",
    "comments: true\n",
    "---"
   ]
  },
  {
   "cell_type": "code",
   "execution_count": null,
   "metadata": {},
   "outputs": [],
   "source": [
    "num1=2\n",
    "num2=2\n",
    "subtract=num1-num2\n",
    "add=num1+num2\n",
    "divide=num1/num2\n",
    "multiply=num1*num2\n",
    "exponent=num1**num2\n",
    "print(subtract)\n",
    "print(add)\n",
    "print(divide)\n",
    "print(multiply)\n",
    "print(exponent)"
   ]
  },
  {
   "cell_type": "code",
   "execution_count": null,
   "metadata": {},
   "outputs": [],
   "source": [
    "num1=2\n",
    "num2=2\n",
    "step1=num1*num2\n",
    "step2=num1%num2\n",
    "print(step2)"
   ]
  },
  {
   "cell_type": "code",
   "execution_count": null,
   "metadata": {},
   "outputs": [],
   "source": [
    "num1=2\n",
    "num2=2\n",
    "step1=num1-num2\n",
    "print(step1)"
   ]
  },
  {
   "cell_type": "code",
   "execution_count": null,
   "metadata": {},
   "outputs": [],
   "source": [
    "num1=2\n",
    "num2=2\n",
    "subtract=num1-num2\n",
    "add=num1+num2\n",
    "divide=num1/num2\n",
    "multiply=num1*num2\n",
    "exponent=num1**num2\n",
    "print(subtract)\n",
    "print(add)\n",
    "print(divide)\n",
    "print(multiply)\n",
    "print(exponent)"
   ]
  },
  {
   "cell_type": "markdown",
   "metadata": {},
   "source": [
    "let num1=2;\n",
    "let num2=2;\n",
    "let step1=num1-num2;\n",
    "console.log(step1);"
   ]
  },
  {
   "cell_type": "markdown",
   "metadata": {},
   "source": [
    "let num1 = 2;\n",
    "let num2 = 2;\n",
    "let subtract = num1 - num2;\n",
    "let add = num1 + num2;\n",
    "let divide = num1 / num2;\n",
    "let multiply = num1 * num2;\n",
    "let exponent = num1 ** num2;\n",
    "console.log(subtract);\n",
    "console.log(add);\n",
    "console.log(divide);\n",
    "console.log(multiply);\n",
    "console.log(exponent);\n"
   ]
  },
  {
   "cell_type": "markdown",
   "metadata": {},
   "source": [
    "let num1=2;\n",
    "let num2=2;\n",
    "let step1=num1*num2;\n",
    "let step2=num1%num2;\n",
    "console.log(step2);"
   ]
  },
  {
   "cell_type": "markdown",
   "metadata": {},
   "source": [
    "let num1=2;\n",
    "let num2=2;\n",
    "let step1=num1+num2;\n",
    "let step2=step1/4;\n",
    "console.log(step2);"
   ]
  }
 ],
 "metadata": {
  "kernelspec": {
   "display_name": "venv",
   "language": "python",
   "name": "python3"
  },
  "language_info": {
   "name": "python",
   "version": "3.12.3"
  }
 },
 "nbformat": 4,
 "nbformat_minor": 2
}
