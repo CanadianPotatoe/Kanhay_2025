{
 "cells": [
  {
   "cell_type": "raw",
   "id": "08f4547e",
   "metadata": {
    "vscode": {
     "languageId": "raw"
    }
   },
   "source": [
    "---\n",
    "layout: post\n",
    "title: Random\n",
    "description: Harry Potter\n",
    "permalink: /posts/yashparikhismygoat\n",
    "comments: true\n",
    "---"
   ]
  },
  {
   "cell_type": "markdown",
   "id": "ce8d7fa7",
   "metadata": {
    "vscode": {
     "languageId": "raw"
    }
   },
   "source": [
    "Online Security (Cryptography) – Random numbers are essential for generating secure encryption keys, which protect data during transmission. Without true randomness, hackers could predict keys and access sensitive information.\n",
    "\n",
    "Video Games – Random number generation is used to create unpredictable gameplay elements like loot drops or enemy behavior, making games more engaging and replayable."
   ]
  },
  {
   "cell_type": "code",
   "execution_count": 1,
   "id": "f982f8a6",
   "metadata": {},
   "outputs": [
    {
     "name": "stdout",
     "output_type": "stream",
     "text": [
      "Results of 20 spins:\n",
      "yes: 99 times (49.5%)\n",
      "no: 49 times (24.5%)\n",
      "ask again later: 52 times (26.0%)\n"
     ]
    }
   ],
   "source": [
    "import random\n",
    "\n",
    "def magic_8_ball():\n",
    "    # TODO: Generate a random number and use it to return one of\n",
    "    # the three possible answers with the correct probabilities\n",
    "    # Your code here\n",
    "    num=random.randint(1,4)\n",
    "    if num <=2:\n",
    "\t    return \"yes\"\n",
    "    elif num==3:\n",
    "\t    return \"no\"\n",
    "    elif num==4:\n",
    "\t    return \"ask again later\"\n",
    "\n",
    "# Test your function\n",
    "results = {}\n",
    "for i in range(200):\n",
    "    result = magic_8_ball()\n",
    "    results[result] = results.get(result, 0) + 1\n",
    "\n",
    "print(\"Results of 20 spins:\")\n",
    "for color, count in results.items():\n",
    "    print(f\"{color}: {count} times ({count/200*100:.1f}%)\")"
   ]
  },
  {
   "cell_type": "code",
   "execution_count": 2,
   "id": "40caa4c9",
   "metadata": {},
   "outputs": [
    {
     "name": "stdout",
     "output_type": "stream",
     "text": [
      "Time 0: Green\n",
      "Time 1: Green\n",
      "Time 2: Green\n",
      "Time 3: Green\n",
      "Time 4: Green\n",
      "Time 5: Yellow\n",
      "Time 6: Yellow\n",
      "Time 7: Red\n",
      "Time 8: Red\n",
      "Time 9: Red\n"
     ]
    }
   ],
   "source": [
    "# Traffic light simulation (no randomness)\n",
    "\n",
    "states = [\"Green\", \"Yellow\", \"Red\"]\n",
    "durations = {\"Green\": 5, \"Yellow\": 2, \"Red\": 4}\n",
    "timeline = []\n",
    "\n",
    "# Simulate 10 time steps\n",
    "time = 0\n",
    "state = \"Green\"\n",
    "counter = 0\n",
    "\n",
    "while time < 10:\n",
    "    timeline.append((time, state))\n",
    "    counter += 1\n",
    "    if counter == durations[state]:\n",
    "        counter = 0\n",
    "        current_index = states.index(state)\n",
    "        state = states[(current_index + 1) % len(states)]\n",
    "    time += 1\n",
    "\n",
    "for t, s in timeline:\n",
    "    print(f\"Time {t}: {s}\")\n",
    "\n"
   ]
  },
  {
   "cell_type": "markdown",
   "id": "353751cc",
   "metadata": {},
   "source": [
    "This is a simulation because it models traffic light behavior using generated data instead of real-world input. It cycles through light states based on preset durations, allowing us to observe and test timing patterns. The real-world impact of such simulations includes improving traffic efficiency, reducing wait times, and designing safer intersections before implementing changes in actual traffic systems."
   ]
  },
  {
   "cell_type": "code",
   "execution_count": 3,
   "id": "3ef4a6c5",
   "metadata": {},
   "outputs": [
    {
     "name": "stdout",
     "output_type": "stream",
     "text": [
      "Welcome to the Dice Game!\n",
      "Rolled: 6 + 5 = 11\n",
      "You win!\n",
      "Current Stats - Wins: 1, Losses: 0\n",
      "\n",
      "Rolled: 6 + 2 = 8\n",
      "Your point is 8. Keep rolling until you get 8 to win or 7 to lose.\n",
      "Rolled: 2 + 5 = 7\n",
      "You rolled a 7. You lose!\n",
      "Current Stats - Wins: 1, Losses: 1\n",
      "\n",
      "Rolled: 3 + 2 = 5\n",
      "Your point is 5. Keep rolling until you get 5 to win or 7 to lose.\n",
      "Rolled: 3 + 2 = 5\n",
      "You hit your point! You win!\n",
      "Current Stats - Wins: 2, Losses: 1\n",
      "\n",
      "Rolled: 2 + 3 = 5\n",
      "Your point is 5. Keep rolling until you get 5 to win or 7 to lose.\n",
      "Rolled: 3 + 4 = 7\n",
      "You rolled a 7. You lose!\n",
      "Current Stats - Wins: 2, Losses: 2\n",
      "\n",
      "Rolled: 3 + 1 = 4\n",
      "Your point is 4. Keep rolling until you get 4 to win or 7 to lose.\n",
      "Rolled: 5 + 6 = 11\n",
      "Rolled: 6 + 2 = 8\n",
      "Rolled: 1 + 2 = 3\n",
      "Rolled: 6 + 3 = 9\n",
      "Rolled: 1 + 1 = 2\n",
      "Rolled: 2 + 5 = 7\n",
      "You rolled a 7. You lose!\n",
      "Current Stats - Wins: 2, Losses: 3\n",
      "\n",
      "Rolled: 1 + 2 = 3\n",
      "Craps! You lose!\n",
      "Current Stats - Wins: 2, Losses: 4\n",
      "\n",
      "Rolled: 4 + 3 = 7\n",
      "You win!\n",
      "Current Stats - Wins: 3, Losses: 4\n",
      "\n",
      "Rolled: 5 + 3 = 8\n",
      "Your point is 8. Keep rolling until you get 8 to win or 7 to lose.\n",
      "Rolled: 4 + 4 = 8\n",
      "You hit your point! You win!\n",
      "Current Stats - Wins: 4, Losses: 4\n",
      "\n",
      "Rolled: 2 + 6 = 8\n",
      "Your point is 8. Keep rolling until you get 8 to win or 7 to lose.\n",
      "Rolled: 6 + 3 = 9\n",
      "Rolled: 4 + 6 = 10\n",
      "Rolled: 5 + 5 = 10\n",
      "Rolled: 3 + 5 = 8\n",
      "You hit your point! You win!\n",
      "Current Stats - Wins: 5, Losses: 4\n",
      "\n",
      "Rolled: 4 + 2 = 6\n",
      "Your point is 6. Keep rolling until you get 6 to win or 7 to lose.\n",
      "Rolled: 2 + 4 = 6\n",
      "You hit your point! You win!\n",
      "Current Stats - Wins: 6, Losses: 4\n",
      "\n",
      "Rolled: 2 + 3 = 5\n",
      "Your point is 5. Keep rolling until you get 5 to win or 7 to lose.\n",
      "Rolled: 3 + 3 = 6\n",
      "Rolled: 3 + 3 = 6\n",
      "Rolled: 6 + 5 = 11\n",
      "Rolled: 3 + 4 = 7\n",
      "You rolled a 7. You lose!\n",
      "Current Stats - Wins: 6, Losses: 5\n",
      "\n",
      "Final Stats - Wins: 6, Losses: 5\n",
      "Thanks for playing!\n"
     ]
    }
   ],
   "source": [
    "import random\n",
    "\n",
    "def roll_dice():\n",
    "    die1 = random.randint(1, 6)\n",
    "    die2 = random.randint(1, 6)\n",
    "    total = die1 + die2\n",
    "    print(f\"Rolled: {die1} + {die2} = {total}\")\n",
    "    return total\n",
    "\n",
    "def play_dice_game():\n",
    "    first_roll = roll_dice()\n",
    "    \n",
    "    if first_roll in [7, 11]:\n",
    "        print(\"You win!\")\n",
    "        return True\n",
    "    elif first_roll in [2, 3, 12]:\n",
    "        print(\"Craps! You lose!\")\n",
    "        return False\n",
    "    else:\n",
    "        point = first_roll\n",
    "        print(f\"Your point is {point}. Keep rolling until you get {point} to win or 7 to lose.\")\n",
    "        while True:\n",
    "            roll = roll_dice()\n",
    "            if roll == point:\n",
    "                print(\"You hit your point! You win!\")\n",
    "                return True\n",
    "            elif roll == 7:\n",
    "                print(\"You rolled a 7. You lose!\")\n",
    "                return False\n",
    "\n",
    "def main():\n",
    "    wins = 0\n",
    "    losses = 0\n",
    "    \n",
    "    while True:\n",
    "        choice = input(\"Do you want to play a round? (yes/no): \").strip().lower()\n",
    "        if choice == \"yes\":\n",
    "            result = play_dice_game()\n",
    "            if result:\n",
    "                wins += 1\n",
    "            else:\n",
    "                losses += 1\n",
    "            print(f\"Current Stats - Wins: {wins}, Losses: {losses}\\n\")\n",
    "        elif choice == \"no\":\n",
    "            print(f\"Final Stats - Wins: {wins}, Losses: {losses}\")\n",
    "            print(\"Thanks for playing!\")\n",
    "            break\n",
    "        else:\n",
    "            print(\"Please type 'yes' or 'no'.\")\n",
    "\n",
    "if __name__ == \"__main__\":\n",
    "    print(\"Welcome to the Dice Game!\")\n",
    "    main()\n"
   ]
  }
 ],
 "metadata": {
  "kernelspec": {
   "display_name": "venv",
   "language": "python",
   "name": "python3"
  },
  "language_info": {
   "codemirror_mode": {
    "name": "ipython",
    "version": 3
   },
   "file_extension": ".py",
   "mimetype": "text/x-python",
   "name": "python",
   "nbconvert_exporter": "python",
   "pygments_lexer": "ipython3",
   "version": "3.12.3"
  }
 },
 "nbformat": 4,
 "nbformat_minor": 5
}
