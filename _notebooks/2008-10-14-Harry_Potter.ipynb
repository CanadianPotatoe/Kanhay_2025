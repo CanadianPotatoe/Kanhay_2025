{
 "cells": [
  {
   "cell_type": "raw",
   "id": "08f4547e",
   "metadata": {
    "vscode": {
     "languageId": "raw"
    }
   },
   "source": [
    "---\n",
    "layout: post\n",
    "title: Anrat Bahia is Very Cute\n",
    "description: Harry Potter\n",
    "permalink: /posts/yashparikhismygoat\n",
    "comments: true\n",
    "---"
   ]
  },
  {
   "cell_type": "markdown",
   "id": "ce8d7fa7",
   "metadata": {
    "vscode": {
     "languageId": "raw"
    }
   },
   "source": [
    "Online Security (Cryptography) – Random numbers are essential for generating secure encryption keys, which protect data during transmission. Without true randomness, hackers could predict keys and access sensitive information.\n",
    "\n",
    "Video Games – Random number generation is used to create unpredictable gameplay elements like loot drops or enemy behavior, making games more engaging and replayable."
   ]
  },
  {
   "cell_type": "code",
   "execution_count": null,
   "id": "f982f8a6",
   "metadata": {},
   "outputs": [],
   "source": [
    "import random\n",
    "\n",
    "def magic_8_ball():\n",
    "    # TODO: Generate a random number and use it to return one of\n",
    "    # the three possible answers with the correct probabilities\n",
    "    # Your code here\n",
    "    num=random.randint(1,4)\n",
    "    if num <=2:\n",
    "\t    return \"yes\"\n",
    "    elif num==3:\n",
    "\t    return \"no\"\n",
    "    elif num==4:\n",
    "\t    return \"ask again later\"\n",
    "\n",
    "# Test your function\n",
    "results = {}\n",
    "for i in range(200):\n",
    "    result = magic_8_ball()\n",
    "    results[result] = results.get(result, 0) + 1\n",
    "\n",
    "print(\"Results of 20 spins:\")\n",
    "for color, count in results.items():\n",
    "    print(f\"{color}: {count} times ({count/200*100:.1f}%)\")"
   ]
  },
  {
   "cell_type": "code",
   "execution_count": null,
   "id": "40caa4c9",
   "metadata": {},
   "outputs": [],
   "source": [
    "# Traffic light simulation (no randomness)\n",
    "\n",
    "states = [\"Green\", \"Yellow\", \"Red\"]\n",
    "durations = {\"Green\": 5, \"Yellow\": 2, \"Red\": 4}\n",
    "timeline = []\n",
    "\n",
    "# Simulate 10 time steps\n",
    "time = 0\n",
    "state = \"Green\"\n",
    "counter = 0\n",
    "\n",
    "while time < 10:\n",
    "    timeline.append((time, state))\n",
    "    counter += 1\n",
    "    if counter == durations[state]:\n",
    "        counter = 0\n",
    "        current_index = states.index(state)\n",
    "        state = states[(current_index + 1) % len(states)]\n",
    "    time += 1\n",
    "\n",
    "for t, s in timeline:\n",
    "    print(f\"Time {t}: {s}\")\n",
    "\n"
   ]
  },
  {
   "cell_type": "markdown",
   "id": "353751cc",
   "metadata": {},
   "source": [
    "This is a simulation because it models traffic light behavior using generated data instead of real-world input. It cycles through light states based on preset durations, allowing us to observe and test timing patterns. The real-world impact of such simulations includes improving traffic efficiency, reducing wait times, and designing safer intersections before implementing changes in actual traffic systems."
   ]
  },
  {
   "cell_type": "code",
   "execution_count": null,
   "id": "3ef4a6c5",
   "metadata": {},
   "outputs": [],
   "source": [
    "import random\n",
    "\n",
    "def roll_dice():\n",
    "    die1 = random.randint(1, 6)\n",
    "    die2 = random.randint(1, 6)\n",
    "    total = die1 + die2\n",
    "    print(f\"Rolled: {die1} + {die2} = {total}\")\n",
    "    return total\n",
    "\n",
    "def play_dice_game():\n",
    "    first_roll = roll_dice()\n",
    "    \n",
    "    if first_roll in [7, 11]:\n",
    "        print(\"You win!\")\n",
    "        return True\n",
    "    elif first_roll in [2, 3, 12]:\n",
    "        print(\"Craps! You lose!\")\n",
    "        return False\n",
    "    else:\n",
    "        point = first_roll\n",
    "        print(f\"Your point is {point}. Keep rolling until you get {point} to win or 7 to lose.\")\n",
    "        while True:\n",
    "            roll = roll_dice()\n",
    "            if roll == point:\n",
    "                print(\"You hit your point! You win!\")\n",
    "                return True\n",
    "            elif roll == 7:\n",
    "                print(\"You rolled a 7. You lose!\")\n",
    "                return False\n",
    "\n",
    "def main():\n",
    "    wins = 0\n",
    "    losses = 0\n",
    "    \n",
    "    while True:\n",
    "        choice = input(\"Do you want to play a round? (yes/no): \").strip().lower()\n",
    "        if choice == \"yes\":\n",
    "            result = play_dice_game()\n",
    "            if result:\n",
    "                wins += 1\n",
    "            else:\n",
    "                losses += 1\n",
    "            print(f\"Current Stats - Wins: {wins}, Losses: {losses}\\n\")\n",
    "        elif choice == \"no\":\n",
    "            print(f\"Final Stats - Wins: {wins}, Losses: {losses}\")\n",
    "            print(\"Thanks for playing!\")\n",
    "            break\n",
    "        else:\n",
    "            print(\"Please type 'yes' or 'no'.\")\n",
    "\n",
    "if __name__ == \"__main__\":\n",
    "    print(\"Welcome to the Dice Game!\")\n",
    "    main()\n"
   ]
  }
 ],
 "metadata": {
  "language_info": {
   "name": "python"
  }
 },
 "nbformat": 4,
 "nbformat_minor": 5
}
