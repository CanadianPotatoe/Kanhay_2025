{
 "cells": [
  {
   "cell_type": "raw",
   "id": "5d952109",
   "metadata": {
    "vscode": {
     "languageId": "raw"
    }
   },
   "source": [
    "---\n",
    "toc: false\n",
    "comments: true\n",
    "layout: post\n",
    "title: Graphs Heuristics Undecidable Problem\n",
    "description: Homework+Popcorn Hacks\n",
    "permalink: /csp/ghup\n",
    "---"
   ]
  },
  {
   "cell_type": "markdown",
   "id": "cb5121e1",
   "metadata": {},
   "source": [
    "### **Graphs Popcorn Hack 1**\n",
    "![Homework Hack](/Kanhay_2025/images/test.png)   \n",
    "**Graphs Homework Hack**:  \n",
    "- **Question 1**: A  \n",
    "- **Question 2**: B  \n",
    "\n",
    "### **Heuristics Hack 1**  \n"
   ]
  },
  {
   "cell_type": "code",
   "execution_count": 1,
   "id": "56f4906b",
   "metadata": {},
   "outputs": [
    {
     "name": "stdout",
     "output_type": "stream",
     "text": [
      "Change for 63¢: [25, 25, 10, 1, 1, 1]\n",
      "Total coins used: 6\n"
     ]
    }
   ],
   "source": [
    "def greedy_coin_change(amount, coins=[25, 10, 5, 1]):\n",
    "    change = []\n",
    "    for coin in coins:\n",
    "        while amount >= coin:\n",
    "            amount -= coin\n",
    "            change.append(coin)\n",
    "    return change\n",
    "\n",
    "# Example usage:\n",
    "amount = 63\n",
    "result = greedy_coin_change(amount)\n",
    "print(f\"Change for {amount}¢: {result}\")\n",
    "print(f\"Total coins used: {len(result)}\")"
   ]
  },
  {
   "cell_type": "markdown",
   "id": "e858a312",
   "metadata": {},
   "source": [
    "- How did changing the order of coins affect the result?\n",
    "Switching from largest-to-smallest to smallest-to-largest significantly increased the number of coins used.\n",
    "- Which algorithm used fewer coins?\n",
    "The original algorithm required fewer coins, as it prioritized larger denominations first.\n",
    "- Where might greedy algorithms work well? Where might they fail?\n",
    "Greedy algorithms perform well when locally optimal choices lead to a globally optimal solution, such as with U.S. coin denominations, but fail when this property doesn't hold, resulting in suboptimal outcomes.\n",
    "- What is one thing you changed, and what did it show you?\n",
    "Adjusting the order of denominations revealed that a greedy algorithm’s efficiency heavily depends on the structure and arrangement of choices.\n",
    "\n",
    "Summary: Changing the order of coins from largest-to-smallest to smallest-to-largest demonstrated that prioritizing larger denominations is essential for efficiency in a greedy algorithm. The original algorithm was far more effective, highlighting that the success of greedy methods depends on the problem’s design and constraints.\n"
   ]
  },
  {
   "cell_type": "markdown",
   "id": "8bca579f",
   "metadata": {},
   "source": [
    "### **Undecidable Problem Popcorn Hack**\n",
    "\n",
    "**Popcorn Hack 1**:  \n",
    "The sum can never be zero because it is always positive, ensuring the process will never terminate.\n",
    "\n",
    "**Popcorn Hack 2**:  \n",
    "- **Question 1**: False  \n",
    "- **Question 2**: False  "
   ]
  },
  {
   "cell_type": "markdown",
   "id": "df71788e",
   "metadata": {},
   "source": [
    "### **Undecidable Problems Homework Hack**\n",
    "\n",
    "#### “Is this number divisible by 2?”  \n",
    "**Decidable**  \n",
    "*Reason*: This problem has a clear algorithm that always terminates. We can check if a number is divisible by 2 by simply examining its last digit or performing modulo division by 2, which will always give a definitive yes or no answer in finite time.\n",
    "\n",
    "#### “Will this program stop or run forever?”  \n",
    "**Undecidable**  \n",
    "*Reason*: This is the famous Halting Problem, proven by Alan Turing to be undecidable. No algorithm can determine for all possible program-input pairs whether the program will eventually halt or run forever.\n",
    "\n",
    "#### “Does this sentence contain the word ‘banana’?”  \n",
    "**Decidable**  \n",
    "*Reason*: This is a simple string searching problem. We can check for the presence of “banana” by scanning through the sentence once, which will always terminate with a definitive answer in finite time.\n",
    "\n",
    "#### “Will this AI ever become sentient?”  \n",
    "**Undecidable**  \n",
    "*Reason*: This question involves predicting a future state that depends on complex, undefined concepts (sentience) and potentially infinite future developments. There is no algorithm that can provide a guaranteed correct answer in finite time."
   ]
  }
 ],
 "metadata": {
  "kernelspec": {
   "display_name": "venv",
   "language": "python",
   "name": "python3"
  },
  "language_info": {
   "codemirror_mode": {
    "name": "ipython",
    "version": 3
   },
   "file_extension": ".py",
   "mimetype": "text/x-python",
   "name": "python",
   "nbconvert_exporter": "python",
   "pygments_lexer": "ipython3",
   "version": "3.12.3"
  }
 },
 "nbformat": 4,
 "nbformat_minor": 5
}
