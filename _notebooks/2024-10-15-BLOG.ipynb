{
 "cells": [
  {
   "cell_type": "raw",
   "metadata": {
    "vscode": {
     "languageId": "raw"
    }
   },
   "source": [
    "---\n",
    "layout: post\n",
    "title: SPRINT 2 REFLECTION\n",
    "description: BLOG\n",
    "permalink: /posts/sprint2reflection\n",
    "comments: true\n",
    "---"
   ]
  },
  {
   "cell_type": "markdown",
   "metadata": {},
   "source": [
    "**Blog: Big Ideas and Teaching**\n",
    "\n",
    "Throughout this unit, I’ve been preparing for College Board (CB) and project-based learning (PBL) by focusing on key coding concepts and organizing my accomplishments. I’ve improved my understanding of variables, data types, and loops in Python and JavaScript. Keeping a detailed blog of these lessons has helped me stay on top of my progress. I’ve also focused on teaching others, which reinforced my learning, ensuring I’m well-prepared for both PBL projects and the upcoming CB/AP exams.\n",
    "\n",
    "**Memory: Highlight of Individual Contribution**\n",
    "\n",
    "A highlight of my individual contribution was teaching the class about lists, variables, camel case, Pascal case, and other foundational coding concepts. This experience was impactful as it helped me reinforce my own understanding while also providing valuable insights for my classmates. It was rewarding to see the class engage with the material and ask thoughtful questions about the differences in naming conventions.\n",
    "\n",
    "**Relevancy: Lesson Learned from Others**\n",
    "\n",
    "One key lesson I learned was that print doesn't work in JavaScript, and for my purposes, I need to use console.log. This insight came from a class presentation and completely changed how I debug my code. Now, I use console.log to efficiently track variables and outputs, leading to a more streamlined approach to coding.\n",
    "\n",
    "**Beyond Perfunctory: Personal Growth and Distinctive Accomplishment**\n",
    "\n",
    "My personal growth is evident in how I now consistently use Boolean logic and declare variables properly in JavaScript, including understanding when to use let, const, or var. Learning the differences between these variable types has enhanced the quality of my code. Additionally, knowing the correct methods for debugging, such as using console.log, shows how I’ve gone beyond just completing assignments—I’m deeply engaged in refining my coding skills."
   ]
  }
 ],
 "metadata": {
  "kernelspec": {
   "display_name": "venv",
   "language": "python",
   "name": "python3"
  },
  "language_info": {
   "name": "python",
   "version": "3.12.3"
  }
 },
 "nbformat": 4,
 "nbformat_minor": 2
}
