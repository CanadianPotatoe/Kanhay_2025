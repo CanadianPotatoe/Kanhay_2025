{
 "cells": [
  {
   "cell_type": "raw",
   "metadata": {
    "vscode": {
     "languageId": "raw"
    }
   },
   "source": [
    "---\n",
    "layout: post\n",
    "title: TEAM BLOG\n",
    "description: TEAM BLOG\n",
    "permalink: /posts/BLOGTEAM\n",
    "comments: true\n",
    "---"
   ]
  },
  {
   "cell_type": "markdown",
   "metadata": {},
   "source": [
    "Title: P5: 3.1 & 3.4 Team Teach Issue\n",
    "Description:\n",
    "# Key Contributions\n",
    "# Personal Issues\n",
    "| Member            | Link to Issue                                                     |\n",
    "|-------------------|-------------------------------------------------------------------|\n",
    "| Aadi Bhat         | [Link](https://github.com/aadibhat09/aadi_2025/issues/7)          |\n",
    "| Aaditya Talepaddy | [Link](https://github.com/aadityataleppady/aaditya_2025/issues/4) |\n",
    "| Aditya Katre      | [Link](https://github.com/adik1025/adi_student/issues/4)          |\n",
    "| Kanhay Patil      | [Link](https://github.com/CanadianPotatoe/Kanhay_2025/issues/4) | "
   ]
  }
 ],
 "metadata": {
  "language_info": {
   "name": "python"
  }
 },
 "nbformat": 4,
 "nbformat_minor": 2
}
