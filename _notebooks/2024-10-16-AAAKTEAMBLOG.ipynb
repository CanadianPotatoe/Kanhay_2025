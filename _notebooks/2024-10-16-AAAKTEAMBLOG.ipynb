{
 "cells": [
  {
   "cell_type": "raw",
   "metadata": {
    "vscode": {
     "languageId": "raw"
    }
   },
   "source": [
    "---\n",
    "layout: post\n",
    "title: TEAM BLOG\n",
    "description: TEAM BLOG\n",
    "permalink: /posts/BLOGTEAM\n",
    "comments: true\n",
    "---"
   ]
  },
  {
   "cell_type": "markdown",
   "metadata": {},
   "source": [
    "# Key Contributions\n",
    "A modern color scheme made our lessons more interesting and visually appealing. We made sure the colors caused no hinderance to the readability of our notebook. We also made sure we stayed in our zone for the notebooks.\n",
    "<br>\n",
    "<br>\n",
    "3.1: For this lesson, we started ground up. We began by exploring naming conventions, and how they are used. This would be a basis for teaching variables, which is the main topic of 3.1. At the end of each subsection, we also included low-stakes quizzes, which were a fun and interactive way to involve our audience.\n",
    "<br>\n",
    "3.4: Strings were an interesting challenge us. We also had low-stakes quizzes for these lessons and we went over types of strings and practical methods and functions for manipulation.\n",
    "# Personal Issues\n",
    "\n",
    "| Member            | Link to Issue                                                     |\n",
    "|-------------------|-------------------------------------------------------------------|\n",
    "| Aadi Bhat         | [Link](https://github.com/aadibhat09/aadi_2025/issues/7)          |\n",
    "| Aaditya Talepaddy | [Link](https://github.com/aadityataleppady/aaditya_2025/issues/4) |\n",
    "| Aditya Katre      | [Link](https://github.com/adik1025/adi_student/issues/4)          |\n",
    "| Kanhay Patil      | [Link](https://github.com/CanadianPotatoe/Kanhay_2025/issues/4) | "
   ]
  }
 ],
 "metadata": {
  "language_info": {
   "name": "python"
  }
 },
 "nbformat": 4,
 "nbformat_minor": 2
}
