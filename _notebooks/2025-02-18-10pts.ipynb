{
 "cells": [
  {
   "cell_type": "raw",
   "metadata": {
    "vscode": {
     "languageId": "raw"
    }
   },
   "source": [
    "---\n",
    "toc: false\n",
    "comments: true\n",
    "layout: post\n",
    "title: Reflection and Grade\n",
    "description: Reflection and Grade\n",
    "permalink: /csp/10\n",
    "---"
   ]
  },
  {
   "cell_type": "markdown",
   "metadata": {},
   "source": [
    "# Strengths and Weaknesses\n",
    "\n",
    "## Strengths  \n",
    "One of my main strengths is **problem-solving**. When debugging my code, I usually have a general idea of what to look for and systematically test potential issues using the console. If needed, I also use **Postman** to troubleshoot API requests and ensure my code functions correctly.  \n",
    "\n",
    "## Weaknesses  \n",
    "One major weakness is that I sometimes **struggle with understanding my own code**, especially in the numerous functions within my frontend. This happens due to a **lack of comments**, making it difficult to navigate my logic when I encounter roadblocks.  \n",
    "\n",
    "### How I Can Improve  \n",
    "- Develop the habit of **writing comments** to briefly explain what each function does.  \n",
    "- Add comments within complex functions to **clarify specific parts of the logic**.  \n",
    "- Avoid relying solely on function names, as they may not always provide enough context.  \n"
   ]
  },
  {
   "cell_type": "markdown",
   "metadata": {},
   "source": [
    "## Self Grade  \n",
    "\n",
    "| **Category**                              | **Max Points** | **Self Grade** | **Explanation** |\n",
    "|-------------------------------------------|--------------|-------------|--------------------------------------------------------------|\n",
    "| **5 Things Done Over 12 Weeks**          | 5            | 5.0         | I completed all tasks, including issue tracking, burndown updates, and presentations with full consistency. |\n",
    "| **Full Stack Project Demo & Feedback**   | 2            | 1.9         | The demo covered all CPT requirements, and I incorporated N@tM feedback well, but I could refine my presentation skills. |\n",
    "| **Project Feature Blog (CPT/FRQ Language)** | 1        | 0.9         | My blog explains the project clearly with CPT-aligned language, but a bit more depth in FRQ formatting could improve it. |\n",
    "| **MCQ Performance**                       | 1            | 0.8         | I performed well on MCQs, but I need to improve my focus and avoid careless mistakes. |\n",
    "| **Retrospective & Reflection**            | 0.5            | 0.2         | I provided a basic reflection on my own strengths and weaknesses but need to add more depth in analyzing my progress and future steps. |\n",
    "| **Self-Grade Justification**              | 0.5            | 0.5         | I fairly assessed my work with detailed reasoning, but I can refine my explanation further. |\n",
    "| **Overall Score**                         | **10**       | **9.3**     | I covered all required aspects but have areas for refinement in presentation, reflection, and justification. |\n"
   ]
  }
 ],
 "metadata": {
  "language_info": {
   "name": "python"
  }
 },
 "nbformat": 4,
 "nbformat_minor": 2
}
