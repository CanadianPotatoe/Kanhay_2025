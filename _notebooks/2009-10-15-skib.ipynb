{
 "cells": [
  {
   "cell_type": "raw",
   "id": "8c1702a7",
   "metadata": {},
   "source": [
    "---\n",
    "layout: post\n",
    "title: Anrat Bahia is Very Cute\n",
    "description: Harry Potter\n",
    "permalink: /posts/yashparikhismygoat2\n",
    "comments: true\n",
    "---"
   ]
  },
  {
   "cell_type": "code",
   "execution_count": null,
   "id": "44220ec2",
   "metadata": {},
   "outputs": [],
   "source": [
    "import pandas as pd\n",
    "\n",
    "# 1) Create a list with at least five items\n",
    "fruits = ['apple', 'banana', 'cherry', 'date', 'elderberry']\n",
    "\n",
    "# List Procedure 1: Append - adding a new item to the list\n",
    "fruits.append('fig')  # Adds 'fig' to the end of the list\n",
    "\n",
    "# List Procedure 2: Remove - removing a specific item from the list\n",
    "fruits.remove('banana')  # Removes 'banana' from the list\n",
    "\n",
    "# List Procedure 3: Sort - sorting the list alphabetically\n",
    "fruits.sort()  # Sorts the list in alphabetical order\n",
    "\n",
    "print(\"Modified fruit list:\", fruits)\n",
    "\n",
    "# 2) List Traversal\n",
    "print(\"\\nTraversing the fruit list:\")\n",
    "for fruit in fruits:\n",
    "    print(fruit)  # Prints each fruit in the list, one at a time\n",
    "\n",
    "# 3) Filtering Algorithm (using pandas)\n",
    "# Condition: Filter only fruits that start with the letter 'e'\n",
    "fruit_df = pd.DataFrame(fruits, columns=['Fruit'])\n",
    "filtered_df = fruit_df[fruit_df['Fruit'].str.startswith('e')]\n",
    "\n",
    "print(\"\\nFiltered fruits (start with 'e'):\")\n",
    "print(filtered_df)"
   ]
  },
  {
   "cell_type": "markdown",
   "id": "41d2a8ad",
   "metadata": {},
   "source": [
    "Filtering algorithms and lists are used in real life to process and organize large sets of data efficiently. For example, streaming services use them to recommend shows based on your viewing history by filtering content that matches your preferences."
   ]
  }
 ],
 "metadata": {
  "language_info": {
   "name": "python"
  }
 },
 "nbformat": 4,
 "nbformat_minor": 5
}
