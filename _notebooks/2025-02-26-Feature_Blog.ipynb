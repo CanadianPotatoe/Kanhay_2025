{
 "cells": [
  {
   "cell_type": "raw",
   "metadata": {
    "vscode": {
     "languageId": "raw"
    }
   },
   "source": [
    "---\n",
    "toc: false\n",
    "comments: true\n",
    "layout: post\n",
    "title: Feature Blog\n",
    "description: test\n",
    "permalink: /csp/featureblog\n",
    "---"
   ]
  },
  {
   "cell_type": "markdown",
   "metadata": {},
   "source": [
    "## Customizable Themes\n",
    "\n",
    "Personalize the look and feel of Neptune to suit your preferences. Our customizable themes are designed to keep you engaged and focused on your work, making your experience both enjoyable and productive.\n",
    "\n",
    "Join Neptune today and become the most productive student you can be!"
   ]
  },
  {
   "cell_type": "markdown",
   "metadata": {},
   "source": [
    "# Database Management (SQLAlchemy)  \n",
    "\n",
    "The application uses **SQLAlchemy** to define and manage the relational database for themes. Each theme entry consists of:  \n",
    "\n",
    "- **_theme**: Represents the name of the theme.  \n",
    "- **_css**: Represents the name/filepath of the CSS associated with that theme.  \n",
    "\n",
    "## Model Definition  \n",
    "The **Theme** model is defined below, specifying the table structure with two key fields:  \n",
    "\n",
    "```python\n",
    "class Theme(db.Model):\n",
    "    \"\"\"\n",
    "    Theme Model\n",
    "    \n",
    "    The Theme class represents a UI theme with an associated CSS file.\n",
    "    \n",
    "    Attributes:\n",
    "        id (db.Column): The primary key, a unique identifier for the record.\n",
    "        _theme (db.Column): A string representing the name of the theme.\n",
    "        _css (db.Column): A string representing the file path or name of the associated CSS file.\n",
    "    \"\"\"\n",
    "    __tablename__ = 'themes'\n",
    "\n",
    "    id = db.Column(db.Integer, primary_key=True)\n",
    "    _theme = db.Column(db.String(255), unique=True, nullable=False)\n",
    "    _css = db.Column(db.String(255), unique=True, nullable=False)\n",
    "    \n",
    "    def __init__(self, theme, css):\n",
    "        \"\"\"\n",
    "        Initializes a Theme object.\n",
    "\n",
    "        Args:\n",
    "            theme (str): The name of the theme.\n",
    "            css (str): The CSS file path associated with the theme.\n",
    "        \"\"\"\n",
    "        self._theme = theme\n",
    "        self._css = css\n"
   ]
  },
  {
   "cell_type": "markdown",
   "metadata": {},
   "source": [
    "### Initialization Function\n",
    "\n",
    "The function named \"initThemes()\" is defined and will populate the table with sample data when the database is intialized\n",
    "\n",
    "```python\n",
    "def initThemes():  \n",
    "    with app.app_context():\n",
    "        \"\"\"Create database and tables\"\"\"\n",
    "        db.create_all()\n",
    "        \"\"\"Tester data for table\"\"\"\n",
    "        \n",
    "        t1 = Theme(theme='Red', css=\"testpath1\")\n",
    "        t2 = Theme(theme='Green', css=\"testpath2\")\n",
    "        themes = [t1, t2]\n",
    "        \n",
    "        for theme in themes:\n",
    "            try:\n",
    "                theme.create()\n",
    "            except IntegrityError:\n",
    "                '''fails with bad or duplicate data'''\n",
    "                db.session.rollback()\n",
    "\n",
    "```\n",
    "\n",
    "In the the API file named themes.py, an endpoint is defined at api/css/crud that handles post, get, put, and delete requests. It validates the user's input ensuring that all 2 required fields have been filled out and then uses the defined create method to add the record to the table\n",
    "\n",
    "```python\n",
    "def post(self):\n",
    "            try:\n",
    "                # Get request body\n",
    "                body = request.get_json()\n",
    "                \n",
    "                if not body or 'theme' not in body or 'css' not in body:\n",
    "                    return {\"message\": \"Invalid request. 'theme' and 'css' are required to add.\"}, 400\n",
    "                \n",
    "                theme = body['theme']\n",
    "                css = body['css']\n",
    "\n",
    "                # Create a new theme\n",
    "                new_theme = Theme(theme=theme, css=css)\n",
    "                new_theme.create()\n",
    "\n",
    "                # Return success response\n",
    "                return new_theme.read(), 201\n",
    "            except Exception as e:\n",
    "                return {\"message\": f\"Error adding theme: {str(e)}\"}, 500\n",
    "```"
   ]
  },
  {
   "cell_type": "markdown",
   "metadata": {},
   "source": [
    "## Frontend (JavaScript & HTML)  \n",
    "\n",
    "The frontend provides a **user-friendly interface** that allows users to interact with the database efficiently.  \n",
    "\n",
    "### Features:  \n",
    "- **Form Fields**: Inputs for programming language details.  \n",
    "- **Automated Theme Management**:  \n",
    "  - A theme is **automatically created** when a user is created.  \n",
    "  - The theme is **automatically deleted** when the user is deleted.  \n",
    "  - The theme is **updated dynamically** when the user selects a new theme.  \n",
    "- **Dynamic UI Updates**: JavaScript ensures seamless updates **without reloading the page**.  \n",
    "\n",
    "### Example Code:  \n",
    "#### 🟢 Fetch User's Theme  \n",
    "```javascript\n",
    "async function fetchUserTheme() {\n",
    "    try {\n",
    "        const response = await fetch(`${pythonURI}/api/user`, fetchOptions);\n",
    "        if (!response.ok) throw new Error(`Failed to fetch theme: ${response.status}`);\n",
    "\n",
    "        const data = await response.json();\n",
    "        return data.theme_mode || null;\n",
    "    } catch (error) {\n",
    "        console.error(\"Error fetching theme:\", error);\n",
    "        return null;\n",
    "    }\n",
    "}\n"
   ]
  },
  {
   "cell_type": "markdown",
   "metadata": {},
   "source": [
    "### **CPT Requirements Table**\n",
    "\n",
    "| CPT Requirement         | Feature Embodying the Requirement | How this feature fulfills the requirement |\n",
    "|-------------------------|-----------------------------------|------------------------------------------|\n",
    "| A list                 | Database stores multiple entries | The database stores and retrieves multiple programming languages as list items |\n",
    "| A procedure            | `initThemes()` function    | Initializes the database with test data, ensuring structured data setup |\n",
    "| A call to the procedure | `fetchUserTheme()` function      | Calls API endpoint to fetch data from the backend |\n",
    "| Selection              | Conditional checks in API routes | Ensures valid data is processed before adding/updating database entries |\n",
    "| Iteration              | `for` loops in Python & JavaScript | Loops iterate through database entries and frontend responses to process them |\n",
    "| Input from User| Users select their theme from the frontend | Selected theme gets saved to a template in the backend |\n",
    "---"
   ]
  }
 ],
 "metadata": {
  "language_info": {
   "name": "python"
  }
 },
 "nbformat": 4,
 "nbformat_minor": 2
}
