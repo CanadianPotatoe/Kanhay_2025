{
 "cells": [
  {
   "cell_type": "raw",
   "metadata": {
    "vscode": {
     "languageId": "raw"
    }
   },
   "source": [
    "---\n",
    "layout: post\n",
    "title: Sprint 3\n",
    "description: Sprint 3\n",
    "permalink: /posts/sprint3\n",
    "comments: true\n",
    "---"
   ]
  },
  {
   "cell_type": "markdown",
   "metadata": {},
   "source": [
    "Our project started off as a place where you would have to respond to a server message as soon as possible, however as we started to think about it, several issues arose such as what the users would have to respond to, how we grade their responses, and how to create a leaderboard. In the end we decided to just make a chatroom with a trivia question, to encourage chatting and collaboration, similar to reddit. I worked on the front end, creating the CSS and working with sending the posts and get requests. My greatest achievement was setting up the send messages button which was sending a post message to our backend, and the fetch messages function which called the contents of our backend to show the updated chat."
   ]
  }
 ],
 "metadata": {
  "language_info": {
   "name": "python"
  }
 },
 "nbformat": 4,
 "nbformat_minor": 2
}
