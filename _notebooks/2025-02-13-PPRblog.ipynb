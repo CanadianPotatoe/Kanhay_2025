{
 "cells": [
  {
   "cell_type": "code",
   "execution_count": null,
   "metadata": {
    "vscode": {
     "languageId": "plaintext"
    }
   },
   "outputs": [],
   "source": [
    "---\n",
    "toc: false\n",
    "comments: true\n",
    "layout: post\n",
    "title: PPR\n",
    "description: PPR\n",
    "permalink: /csp/PPR\n",
    "---"
   ]
  },
  {
   "cell_type": "markdown",
   "metadata": {},
   "source": [
    "# PPR Code Snippets\n",
    "\n",
    "## Procedure Program Code 1\n",
    "\n",
    "### Code:\n",
    "```python\n",
    "@staticmethod\n",
    "def restore(data):\n",
    "    themes = {}\n",
    "    for theme_data in data:\n",
    "        _ = theme_data.pop('id', None)  # Remove 'id' from theme_data\n",
    "        css = theme_data.get(\"css\", None)\n",
    "        theme = Theme.query.filter_by(_css=css).first()\n",
    "        if theme:\n",
    "            theme = theme.update(theme_data)  # Call update on the instance\n",
    "        else:\n",
    "            theme = Theme(**theme_data)\n",
    "            theme.create()\n",
    "        themes[theme._theme] = theme  # Keep track of themes if needed\n",
    "    return themes\n",
    "```\n",
    "\n",
    "### Explanation:\n",
    "- **Procedure Name:** `restore`\n",
    "- **Return Type:** Dictionary (containing restored `Theme` objects)\n",
    "- **Parameter:** `data` (list) - A list of dictionaries containing theme data\n",
    "- **Sequencing:** Initializes an empty dictionary for restored themes, iterates through input data, and either updates existing records or creates new ones.\n",
    "- **Selection:** Checks if a theme already exists in the database before updating it. If it does not exist, it creates a new theme entry.\n",
    "- **Iteration:** Iterates over the provided data list using a `for` loop, ensuring all themes are handled appropriately.\n",
    "\n",
    "---\n",
    "\n",
    "## Procedure Program Code 2\n",
    "\n",
    "### Code:\n",
    "```python\n",
    "restored_themes = Theme.restore(theme_data_list)\n",
    "```\n",
    "\n",
    "### Explanation:\n",
    "- This line of code calls the `restore` function with `theme_data_list` as an argument, initiating the restoration process.\n",
    "- The restored themes are stored in the `restored_themes` dictionary.\n",
    "\n",
    "---\n",
    "\n",
    "## List Program Code 1\n",
    "\n",
    "### Code:\n",
    "```python\n",
    "theme_list = [theme.read() for theme in Theme.query.all()]\n",
    "```\n",
    "\n",
    "### Explanation:\n",
    "- **List Initialization:** `theme_list` stores all themes in a structured format.\n",
    "- **Data Storage:** Uses list comprehension to iterate through all themes and store their `read()` results in the list.\n",
    "\n",
    "---\n",
    "\n",
    "## List Program Code 2\n",
    "\n",
    "### Code:\n",
    "```python\n",
    "for theme in theme_list:\n",
    "    print(f\"Theme Name: {theme['theme']}, CSS: {theme['css']}\")\n",
    "```\n",
    "\n",
    "### Explanation:\n",
    "- **Data Usage:** Iterates through the `theme_list` and prints each theme's name and CSS.\n",
    "- **Iteration:** Uses a `for` loop to go through the list.\n",
    "\n"
   ]
  }
 ],
 "metadata": {
  "language_info": {
   "name": "python"
  }
 },
 "nbformat": 4,
 "nbformat_minor": 2
}
