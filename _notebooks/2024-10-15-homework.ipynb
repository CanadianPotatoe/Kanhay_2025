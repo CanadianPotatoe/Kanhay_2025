{
 "cells": [
  {
   "cell_type": "markdown",
   "metadata": {},
   "source": [
    "HOMEWORK!!!!"
   ]
  },
  {
   "cell_type": "code",
   "execution_count": null,
   "metadata": {},
   "outputs": [],
   "source": [
    "# Hack 1\n",
    "statement1 = \"Hello\"\n",
    "statement2 = \"Hello\"\n",
    "\n",
    "if statement1 == statement2:\n",
    "    print(\"The statements are equal.\")\n",
    "else:\n",
    "    print(\"The statements are not equal.\")\n"
   ]
  },
  {
   "cell_type": "code",
   "execution_count": null,
   "metadata": {},
   "outputs": [],
   "source": [
    "# Hack 2\n",
    "var1 = \"hello\"\n",
    "var2 = \"world\"\n",
    "\n",
    "if var1 == var2:\n",
    "    print(\"We are the same\")\n",
    "elif len(var1) == len(var2):\n",
    "    print(\"We are the same length!\")\n",
    "else:\n",
    "    print(\"We are not that similar :(\")\n"
   ]
  },
  {
   "cell_type": "code",
   "execution_count": null,
   "metadata": {},
   "outputs": [],
   "source": [
    "# Hack 3\n",
    "numbers = []\n",
    "while len(numbers) < 10:\n",
    "    user_input = input(f\"Enter number {len(numbers) + 1}: \")\n",
    "    try:\n",
    "        num = int(user_input)\n",
    "        numbers.append(num)\n",
    "    except ValueError:\n",
    "        print(\"Please enter a valid number.\")\n",
    "\n",
    "print(\"You entered:\", numbers)\n"
   ]
  },
  {
   "cell_type": "code",
   "execution_count": null,
   "metadata": {},
   "outputs": [],
   "source": [
    "# Hack 1 (3.7)\n",
    "\n",
    "# Sample starting values\n",
    "x = 15\n",
    "y = 10\n",
    "\n",
    "if x > y:\n",
    "    print(\"x is greater than y\")\n",
    "    \n",
    "    if x - y > 10:\n",
    "        print(\"x is significantly greater than y by more than 10.\")\n",
    "    else:\n",
    "        print(\"x is greater than y, but the difference is 10 or less.\")\n",
    "else:\n",
    "    if x == y:\n",
    "        print(\"x and y are equal.\")\n",
    "    else:\n",
    "        print(\"x is less than y.\")\n",
    "        \n",
    "        if y - x > 5:\n",
    "            print(\"y is significantly greater than x by more than 5.\")\n",
    "        else:\n",
    "            print(\"y is greater, but the difference is 5 or less.\")\n"
   ]
  },
  {
   "cell_type": "code",
   "execution_count": null,
   "metadata": {},
   "outputs": [],
   "source": [
    "# TEENAGER STUFF\n",
    "\n",
    "age = int(input(\"Enter your age: \"))\n",
    "\n",
    "if age < 13:\n",
    "    print(\"You are a Child.\")\n",
    "elif age >= 13 and age < 18:\n",
    "    print(\"You are a Teenager.\")\n",
    "else:\n",
    "    print(\"You are an Adult.\")\n"
   ]
  }
 ],
 "metadata": {
  "kernelspec": {
   "display_name": "venv",
   "language": "python",
   "name": "python3"
  },
  "language_info": {
   "name": "python",
   "version": "3.12.3"
  }
 },
 "nbformat": 4,
 "nbformat_minor": 2
}
