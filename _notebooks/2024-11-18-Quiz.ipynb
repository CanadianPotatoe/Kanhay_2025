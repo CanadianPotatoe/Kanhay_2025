{
 "cells": [
  {
   "cell_type": "raw",
   "metadata": {
    "vscode": {
     "languageId": "raw"
    }
   },
   "source": [
    "---\n",
    "layout: post\n",
    "title: Quiz \n",
    "description: Quiiiiiiiz\n",
    "permalink: /posts/Quiz1\n",
    "comments: true\n",
    "---"
   ]
  },
  {
   "cell_type": "markdown",
   "metadata": {},
   "source": [
    "I learned a lot of stuff about iterations and truth tables. I can now more fluently look at a loop and understand what its doing/what its missng to work properly, and I can also work with truth tables without having to write anything down.\n",
    "\n",
    "I feel I am week on questions that are not about coding, and more about organizations, or other questions that include logic and algorithms.\n",
    "\n",
    "| Topic                                | Score | Completion Percentage |\n",
    "|--------------------------------------|-------|------------------------|\n",
    "| 3.17: Algorithmic Efficiency         | 2     | 0%                     |\n",
    "| 3.9: Developing Algorithms           | 4     | 50%                    |\n",
    "| 3.13: Developing Procedures          | 2     | 50%                    |\n",
    "| 3.15: Random Values                  | 2     | 50%                    |\n",
    "| 3.16: Simulations                    | 2     | 50%                    |\n",
    "| 4.1: The Internet                    | 3     | 67%                    |\n",
    "| 2.3: Extracting Information from Data| 7     | 71%                    |\n",
    "| Everything Else                      | -     | 100%                   |\n",
    "\n",
    "Q6: Which of the following best describes the role of the Internet Engineering Task Force (IETF) ?\n",
    "    I chose option C, as I thought the the IEEE made standards and protocols for Internet commnication. Due to this, by process of elimnation, I selected option C.\n",
    "\n",
    "Q11: I chose option A, however I didn't realize that each area wasn't equally likely to be chosen. I misunderstood the question and thought all the areas needed to be equally likely to be chosen.\n",
    "\n",
    "Q14: I thought the program would display the same values in different orders, however I forgot the initial value of i wouldn't ever be printed in program B as its never printed before adding 1 to it.\n",
    "\n",
    "Q18: I chose option B, however i didn't read the \"Least likely to provide a more accurate prediction\", and chose option D which would give more accurate predictions. By process of elimnation, option C would have been the correct answer.\n",
    "\n",
    "Q21: I forgot my rights and lefts, to turn left I had to turn right 3 times, not turn right 1 time\n",
    "\n",
    "Q30: I thought because there was 4 things in the genreList, it woudl take 4 hours however the Analysis fuction is called once outside of the loop in the first line as well, hence it would take 5 hours for the program to run.\n",
    "\n",
    "Q31: Program 2 also works, I didn't realize that turning left multiple times can still work. I thought only turning right would work, however if you are in a corner, and you turn left, the program sees that it cannot go forward and so it turns left again and it repeats this, until it faces the desired direction. It would be more optimal to turn right once, however turning left multiple times still works.\n",
    "\n",
    "Q32: I chose option D however there doesn't seem to be a correlation as the data is more spread out. Option A makes sense however I thought that option D made more sense and so I didn't pick it.\n",
    "\n",
    "Q43: I thought the algorithm would take an unreasonable amount of time, but because the number of steps is a polynomial, it would run in a reasonable amount of time. I didn't notice the number of steps being a polynomial, and I thought it was a linear relationship.\n",
    "\n",
    "Q60: I didn't know you could replace string variables with a list of strings. I thought you had to keep them seperate. Howeve if this is possible which it probably is, it would make coding a lot easier. Now that I think of it, you can use the index values to call certain values from a list, and hence it would make the code a lot easier to understand if you used a list rather than many variables for strings.\n",
    "\n",
    "Q61: I wasn't thinking straight, however I thought option A was still possible even with one list, it never occured to me that the full list needed to be created before that was possible. Both the lists had first names and last names, but I completely forgot about how the option was asking about ALL the students, not just half."
   ]
  },
  {
   "cell_type": "markdown",
   "metadata": {},
   "source": []
  }
 ],
 "metadata": {
  "language_info": {
   "name": "python"
  }
 },
 "nbformat": 4,
 "nbformat_minor": 2
}
