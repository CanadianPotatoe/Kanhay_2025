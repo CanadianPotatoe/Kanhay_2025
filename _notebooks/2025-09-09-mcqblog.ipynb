{
 "cells": [
  {
   "cell_type": "code",
   "execution_count": null,
   "metadata": {
    "vscode": {
     "languageId": "plaintext"
    }
   },
   "outputs": [],
   "source": [
    "---\n",
    "toc: false\n",
    "comments: true\n",
    "layout: post\n",
    "title: 2020 MCQ\n",
    "description: 2020 MCQ\n",
    "permalink: /csp/MCQ2\n",
    "---"
   ]
  },
  {
   "cell_type": "markdown",
   "metadata": {},
   "source": [
    "# MCQ Review\n",
    "\n",
    "## Score Improvement  \n",
    "I scored **63/67**, an improvement from my previous **55/66**.  \n",
    "![MCQ Score](/Kanhay_2025/images/mcq.png)\n",
    "\n",
    "## Questions I Missed  \n",
    "Here are the questions I missed:\n",
    "\n",
    "1. **Question 11 (2.B)** – Develop and Implement Algorithms  \n",
    "   ![MCQ Score](/Kanhay_2025/images/11.png)  \n",
    "   - **Answer Chosen**: B  \n",
    "   - **Correct Answer**: A  \n",
    "   - **Takeaway/How will I fix my error in the future**: Take a pen and paper and write out the binary conversion. (Unsure if calculators are allowed, but a calculator is another way to do it). Overall just prevent making careless mistakes. Narrowed it down to 4 options, 3 of them being answer choices however messed up the final conversion.\n",
    "\n",
    "2. **Question 12 (2.B)** - Develop and Implement Algorithms  \n",
    "   ![MCQ Score](/Kanhay_2025/images/12.png)  \n",
    "   - **Answer Chosen**: A  \n",
    "   - **Correct Answer**: C  \n",
    "   - **Takeaway/How will I fix my error in the future**: Take a pen and paper and write out the binary conversion. (Unsure if calculators are allowed, but a calculator is another way to do it). Overall just prevent making careless mistakes. Had issues with converting 75 to binary, however can be prevented by meticulous double checking.\n",
    "\n",
    "3. **Question 21 (5.B)** – Investigate Computing Innovations  \n",
    "   ![MCQ Score](/Kanhay_2025/images/21.png)  \n",
    "   - **Answer Chosen**: D  \n",
    "   - **Correct Answer**: A  \n",
    "   - **Takeaway/How will I fix my error in the future**: Technically my option was correct however it wasn't the most accurate. Technically over 75% of the files stored are over 1 MB in size however more accurately, 75% of the files are greater than 10 MB in size. Just overall reading the options more carefully.\n",
    "\n",
    "4. **Question 67 (4.C)** – Evaluate and Test Algorithms and Programs  \n",
    "   ![MCQ Score](/Kanhay_2025/images/67.png)  \n",
    "   - **Answer Chosen**: B  \n",
    "   - **Correct Answer**: A & B  \n",
    "   - **Takeaway/How will I fix my error in the future**: I thought A would return the expected value as it ends with the target word however I didn't account for the fact that count is reset every time the code tries to check, in the end giving a count of 1 when it should actually be 2. Just me not paying attention with the options and running through the code. Literally could be solved by me getting a pen and paper.\n",
    "\n",
    "---\n",
    "\n",
    "## How I Improved  \n",
    "- My overall score improved compared to my last attempt.  \n",
    "- I dedicated around **2 hours** to completing the MCQ section.\n",
    "\n",
    "## Areas for Improvement  \n",
    "1. **Staying Focused**: I need to avoid letting my mind wander and stay more focused during the test.  \n",
    "2. **Reading Carefully**: I made careless mistakes by not paying enough attention to the details of some questions.  \n",
    "3. **Time Management**: I should work on optimizing my approach to avoid spending too much time on certain questions.\n"
   ]
  }
 ],
 "metadata": {
  "language_info": {
   "name": "python"
  }
 },
 "nbformat": 4,
 "nbformat_minor": 2
}
