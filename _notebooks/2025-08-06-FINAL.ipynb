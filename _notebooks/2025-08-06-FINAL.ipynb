{
 "cells": [
  {
   "cell_type": "raw",
   "id": "5cbb45d4",
   "metadata": {
    "vscode": {
     "languageId": "raw"
    }
   },
   "source": [
    "---\n",
    "toc: false\n",
    "comments: true\n",
    "layout: post\n",
    "title: Night at the Museum\n",
    "description: Experiences at Night at the Museum\n",
    "permalink: /csp/showcase\n",
    "---"
   ]
  },
  {
   "cell_type": "markdown",
   "id": "9d0f06d2",
   "metadata": {},
   "source": [
    "## Trimester 2: Observing Pawnsy  \n",
    "\n",
    "One particularly notable project I encountered during the second trimester's **Night at the Museum** was **Pawnsy**, an online chess platform bearing resemblance to **Chess.com**. The development team successfully integrated **Stockfish**, a powerful open-source chess engine, to provide challenging AI-driven gameplay. The platform also featured **leaderboards** and **game replays**, enhancing both its competitive and analytical dimensions.\n",
    "\n",
    "I recommended the inclusion of **additional customization options** for chess pieces and boards, thereby allowing users to personalize their experience. Furthermore, I suggested the implementation of **real-time player-versus-player matches** as a means of enriching user engagement and introducing a more dynamic multiplayer component.\n",
    "\n",
    "Overall, **Pawnsy** demonstrated strong technical execution and thoughtful design, making it one of the more ambitious and memorable projects at the event.\n",
    "\n",
    "![Pawnsy](/Kanhay_2025/images/IMG_4822.JPG)\n",
    "\n",
    "---\n",
    "\n",
    "## Trimester 3: Presenting Crosswise  \n",
    "\n",
    "During the third trimester’s **Night at the Museum**, I had the privilege of presenting **Crosswise**, a web application developed by my team and me. The platform predicts **U.S.–Mexico border wait times** and provides real-time data to assist commuters with travel planning. Our team received valuable feedback from attendees, many of whom expressed interest in the predictive algorithms and user interface design.\n",
    "\n",
    "It was equally inspiring to explore other student projects, particularly **CSA’s stock market simulator**, presented by **Tanay Shah**. He articulated how the simulator empowers students to experiment with **investment strategies** in a risk-free environment, thus enhancing financial literacy. His project was part of a broader economic megaproject that included modules on **Bitcoin mining** and **gambling mechanics**, showcasing thoughtful integration and interdisciplinary collaboration.\n",
    "\n",
    "Presenting **Crosswise** and witnessing the innovation of my peers reaffirmed my enthusiasm for collaborative development and technical problem-solving. I look forward to future opportunities to create, connect, and contribute to the Open Coding Society.\n",
    "\n",
    "---\n",
    "\n",
    "## Reflection  \n",
    "\n",
    "Participating in **Night at the Museum** throughout the year was an invaluable experience that broadened my perspective on student-driven innovation. In the second trimester, I engaged with and critically analyzed my peers’ work, which deepened my appreciation for the complexity and creativity involved in web development and algorithmic design. In the third trimester, the transition from observer to presenter challenged me to clearly communicate the technical and practical aspects of **Crosswise** to a broad audience.\n",
    "\n",
    "Across both events, I developed a greater sense of confidence in my technical skills, presentation abilities, and collaborative mindset. Most importantly, **Night at the Museum** fostered a vibrant culture of learning and peer support, where constructive feedback and shared passion for technology drove everyone forward.\n",
    "\n",
    "This year’s experiences have only solidified my commitment to engineering and innovation, and I look forward to future opportunities where I can both learn from others and contribute meaningful work of my own.\n"
   ]
  }
 ],
 "metadata": {
  "language_info": {
   "name": "python"
  }
 },
 "nbformat": 4,
 "nbformat_minor": 5
}
