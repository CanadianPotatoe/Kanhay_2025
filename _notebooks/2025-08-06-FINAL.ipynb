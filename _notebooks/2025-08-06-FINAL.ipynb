{
 "cells": [
  {
   "cell_type": "raw",
   "id": "5cbb45d4",
   "metadata": {
    "vscode": {
     "languageId": "raw"
    }
   },
   "source": [
    "---\n",
    "toc: false\n",
    "comments: true\n",
    "layout: post\n",
    "title: Final Review\n",
    "description: the last one\n",
    "permalink: /csp/thelastone\n",
    "---"
   ]
  },
  {
   "cell_type": "markdown",
   "id": "9d0f06d2",
   "metadata": {},
   "source": [
    "# Year-End Reflection Blog\n",
    "\n",
    "## Projects Overview\n",
    "\n",
    "This year in Computer Science Principles, I worked on different projects across the three trimesters. Each project helped me grow as a programmer and taught me new skills.\n",
    "\n",
    "### Trimester 1: Instabox\n",
    "\n",
    "Instabox was my first major project. It was a quiz website where users would get a question each day at a random time. Based on how fast and well they answered, they would earn points and rise on the leaderboard. It was meant to be a fun, daily competition platform. I was the main person who planned out the game logic and the scoring system, which formed the core of the site’s functionality.\n",
    "\n",
    "### Trimester 2: Neptune\n",
    "\n",
    "In the second trimester, I built Neptune, a custom version of the school tool Saturn. I added a theme switcher to let users change the appearance of the site. I also led the deployment of the project through AWS. Additionally, I set up CRUD operations and created new backend tables to support the profile feature I designed. I showcased Neptune during the Night at the Museum event. I explained how the features worked and how students could use it in their daily life.\n",
    "\n",
    "### Trimester 3: Crosswise\n",
    "\n",
    "In the third trimester, I made a tool called Crosswise. It helps people plan trips across the border by giving weather forecasts and wait time predictions. I first began with a machine learning model to predict crossing times, but later decided on a simpler method by integrating NOAA weather data instead. I showed Crosswise during the June 2025 Night at the Museum. I walked people through how the site works and how someone would use it to plan a crossing.\n",
    "\n",
    "## Homework\n",
    "\n",
    "| Link                                                                                               |\n",
    "| -------------------------------------------------------------------------------------------------- |\n",
    "| [Link](https://canadianpotatoe.github.io/Kanhay_2025/csp/padwinmypadwin)                           |\n",
    "| [Link](https://canadianpotatoe.github.io/Kanhay_2025/2009/09/09/BinarySearchHw_IPYNB_2_.html)      |\n",
    "| [Link](https://canadianpotatoe.github.io/Kanhay_2025/posts/yashparikhismygoat2)                    |\n",
    "| [Link](https://canadianpotatoe.github.io/Kanhay_2025/posts/anratbahiaissortameantomebuthesalsohot) |\n",
    "| [Link](https://canadianpotatoe.github.io/Kanhay_2025/posts/color)                                  |\n",
    "| [Link](https://canadianpotatoe.github.io/Kanhay_2025/posts/yashparikhismygoat)                     |\n",
    "| [Link](https://canadianpotatoe.github.io/Kanhay_2025/csp/ghup)                                     |\n",
    "| [Link](https://canadianpotatoe.github.io/Kanhay_2025/csp/logicgates)                               |\n",
    "\n",
    "## Night at the Museum Showcases\n",
    "\n",
    "In the second trimester, I presented my project Neptune at the Night at the Museum event. I showed how the theme switcher worked and explained how users could interact with the site.\n",
    "\n",
    "In the third trimester, I presented Crosswise at the Night at the Museum. I went over how the weather and wait time predictions functioned. I walked attendees through a user journey of how someone would use the website to plan their border crossing.\n",
    "\n",
    "## Summary\n",
    "\n",
    "This class helped me learn how to take ideas and turn them into working websites. I learned how to use tools like Flask, JavaScript, and APIs. I planned out core logic for competitive games, managed AWS deployment and backend development, and worked with real-world data sources. I also practiced explaining my work to others and learned how to build useful tools for real users. The projects, homework, and presentations this year gave me a strong start in computer science.\n",
    "\n",
    "Throughout this course, I consistently took initiative. I led deployment efforts, designed critical game logic, and developed backend systems from scratch. I showed adaptability by simplifying a machine learning approach into a more effective solution with NOAA data. These experiences helped me grow both technically and as a team contributor. I built things that worked—and made sure people knew how to use them.\n"
   ]
  }
 ],
 "metadata": {
  "language_info": {
   "name": "python"
  }
 },
 "nbformat": 4,
 "nbformat_minor": 5
}
