{
 "cells": [
  {
   "cell_type": "raw",
   "id": "e17dbfd9",
   "metadata": {
    "vscode": {
     "languageId": "raw"
    }
   },
   "source": [
    "---\n",
    "layout: post\n",
    "title: Yash Parikh is so cute ❤️\n",
    "description: So hot 😍\n",
    "permalink: /posts/anratbahiaissortameantomebuthesalsohot\n",
    "comments: true\n",
    "---"
   ]
  },
  {
   "cell_type": "markdown",
   "id": "cd0358dd",
   "metadata": {},
   "source": [
    "# Popcorn Hack 1\n",
    "Most Efficient Strategies:\n",
    "\n",
    "Use the modulus operator (% 2 == 0)\n",
    "\n",
    "Check if the last digit is 0, 2, 4, 6, or 8\n",
    "\n",
    "Why:\n",
    "Both are O(1) operations that require minimal processing and no iteration or extra memory. They provide instant results with simple logic.\n",
    "\n",
    "# Popcorn Hack 2"
   ]
  },
  {
   "cell_type": "code",
   "execution_count": 7,
   "id": "720e016b",
   "metadata": {},
   "outputs": [
    {
     "name": "stdout",
     "output_type": "stream",
     "text": [
      "Testing with data size: 20000000\n",
      "Linear search: 0.589462 seconds\n",
      "Binary search: 0.000048 seconds\n",
      "Binary search is approximately 12362x faster\n"
     ]
    }
   ],
   "source": [
    "\n",
    "import time\n",
    "import random\n",
    "\n",
    "# Generate a large sorted list\n",
    "data_size = 20000000\n",
    "sorted_data = sorted(random.sample(range(20000000), data_size))\n",
    "\n",
    "# Target to find (worst case for linear search)\n",
    "target = sorted_data[-1]  # Last element\n",
    "\n",
    "# O(n) - Linear Search\n",
    "def linear_search(arr, target):\n",
    "    for i, element in enumerate(arr):\n",
    "        if element == target:\n",
    "            return i\n",
    "    return -1\n",
    "\n",
    "# O(log n) - Binary Search\n",
    "def binary_search(arr, target):\n",
    "    left, right = 0, len(arr) - 1\n",
    "    \n",
    "    while left <= right:\n",
    "        mid = (left + right) // 2\n",
    "        if arr[mid] == target:\n",
    "            return mid\n",
    "        elif arr[mid] < target:\n",
    "            left = mid + 1\n",
    "        else:\n",
    "            right = mid - 1\n",
    "    \n",
    "    return -1\n",
    "\n",
    "# Compare performance\n",
    "print(\"Testing with data size:\", data_size)\n",
    "\n",
    "start = time.time()\n",
    "linear_result = linear_search(sorted_data, target)\n",
    "linear_time = time.time() - start\n",
    "print(f\"Linear search: {linear_time:.6f} seconds\")\n",
    "\n",
    "start = time.time()\n",
    "binary_result = binary_search(sorted_data, target)\n",
    "binary_time = time.time() - start\n",
    "print(f\"Binary search: {binary_time:.6f} seconds\")\n",
    "\n",
    "print(f\"Binary search is approximately {linear_time/binary_time:.0f}x faster\")"
   ]
  },
  {
   "cell_type": "markdown",
   "id": "6f7f07cd",
   "metadata": {},
   "source": [
    "What is the time complexity of each algorithm?\n",
    "\n",
    "Linear:O(n)\n",
    "\n",
    "Binary: O(log n)\n",
    "\n",
    "How many times faster is binary search than linear search?\n",
    "\n",
    "    10500 times\n",
    "    \n",
    "What happens if you increase data_size to 20000000?\n",
    "\n",
    "    Linear search gets slower and slower"
   ]
  },
  {
   "cell_type": "markdown",
   "id": "1758903c",
   "metadata": {},
   "source": [
    "## Homework Hack 1"
   ]
  },
  {
   "cell_type": "code",
   "execution_count": 3,
   "id": "aac15972",
   "metadata": {},
   "outputs": [
    {
     "name": "stdout",
     "output_type": "stream",
     "text": [
      "Bubble Sort Time: 0.000226 seconds\n",
      "Merge Sort Time: 0.000105 seconds\n",
      "Merge Sort is faster\n"
     ]
    }
   ],
   "source": [
    "import random\n",
    "import time\n",
    "\n",
    "def bubble_sort(arr):\n",
    "    n = len(arr)\n",
    "    for i in range(n):\n",
    "        for j in range(0, n - i - 1):\n",
    "            if arr[j] > arr[j + 1]:\n",
    "                arr[j], arr[j + 1] = arr[j + 1], arr[j]\n",
    "\n",
    "def merge_sort(arr):\n",
    "    if len(arr) > 1:\n",
    "        mid = len(arr) // 2\n",
    "        left = arr[:mid]\n",
    "        right = arr[mid:]\n",
    "\n",
    "        merge_sort(left)\n",
    "        merge_sort(right)\n",
    "\n",
    "        i = j = k = 0\n",
    "        while i < len(left) and j < len(right):\n",
    "            if left[i] < right[j]:\n",
    "                arr[k] = left[i]\n",
    "                i += 1\n",
    "            else:\n",
    "                arr[k] = right[j]\n",
    "                j += 1\n",
    "            k += 1\n",
    "\n",
    "        while i < len(left):\n",
    "            arr[k] = left[i]\n",
    "            i += 1\n",
    "            k += 1\n",
    "\n",
    "        while j < len(right):\n",
    "            arr[k] = right[j]\n",
    "            j += 1\n",
    "            k += 1\n",
    "\n",
    "# Generate random data\n",
    "data = [random.randint(1, 1000) for _ in range(100)]\n",
    "\n",
    "# Measure Bubble Sort time\n",
    "arr1 = data[:]\n",
    "start = time.time()\n",
    "bubble_sort(arr1)\n",
    "end = time.time()\n",
    "bubble_time=end-start\n",
    "print(f\"Bubble Sort Time: {end - start:.6f} seconds\")\n",
    "\n",
    "# Measure Merge Sort time\n",
    "arr2 = data[:]\n",
    "start = time.time()\n",
    "merge_sort(arr2)\n",
    "end = time.time()\n",
    "merge_time=end-start\n",
    "print(f\"Merge Sort Time: {end - start:.6f} seconds\")\n",
    "# Compare times\n",
    "if bubble_time < merge_time:\n",
    "    print(\"Bubble Sort is faster\")\n",
    "elif bubble_time > merge_time: \n",
    "    print(\"Merge Sort is faster\")\n",
    "else:\n",
    "    print(\"Both algorithms took the same time\")"
   ]
  },
  {
   "cell_type": "markdown",
   "id": "9e1564a2",
   "metadata": {},
   "source": [
    "Merge Sort uses a divide-and-conquer strategy that reduces the number of comparisons needed for sorting. It operates in O(n log n) time, making it significantly faster than Bubble Sort’s O(n²) time, especially on larger datasets.\n",
    "\n"
   ]
  },
  {
   "cell_type": "markdown",
   "id": "11bb06e0",
   "metadata": {},
   "source": [
    "## Homework Hack #2: Search Race – Code Edition"
   ]
  },
  {
   "cell_type": "code",
   "execution_count": 4,
   "id": "16c8892c",
   "metadata": {},
   "outputs": [
    {
     "name": "stdout",
     "output_type": "stream",
     "text": [
      "Target: 5128\n",
      "Linear Search Comparisons: 5128\n",
      "Binary Search Comparisons: 15\n"
     ]
    }
   ],
   "source": [
    "import random\n",
    "\n",
    "def linear_search(arr, target):\n",
    "    count = 0\n",
    "    for i in range(len(arr)):\n",
    "        count += 1\n",
    "        if arr[i] == target:\n",
    "            return count\n",
    "    return -1\n",
    "\n",
    "def binary_search(arr, target):\n",
    "    left, right = 0, len(arr) - 1\n",
    "    count = 0\n",
    "    while left <= right:\n",
    "        count += 1\n",
    "        mid = (left + right) // 2\n",
    "        if arr[mid] == target:\n",
    "            return count\n",
    "        elif arr[mid] < target:\n",
    "            left = mid + 1\n",
    "        else:\n",
    "            right = mid - 1\n",
    "    return -1\n",
    "\n",
    "# Generate sorted list and pick a random target\n",
    "arr = list(range(1, 100001))\n",
    "target = random.choice(arr)\n",
    "\n",
    "# Execute searches\n",
    "print(f\"Target: {target}\")\n",
    "print(f\"Linear Search Comparisons: {linear_search(arr, target)}\")\n",
    "print(f\"Binary Search Comparisons: {binary_search(arr, target)}\")\n"
   ]
  },
  {
   "cell_type": "markdown",
   "id": "54c7560e",
   "metadata": {},
   "source": [
    "# Which search algorithm is faster, and why?\n",
    "Binary Search is faster because it reduces the search range by half with each comparison, resulting in O(log n) time. Linear Search must examine each element individually, leading to O(n) time.\n",
    "\n",
    "# What happens if the list is unsorted?\n",
    "Binary Search will fail or produce incorrect results since it requires sorted data. Linear Search will still function correctly, albeit inefficiently."
   ]
  }
 ],
 "metadata": {
  "kernelspec": {
   "display_name": "venv",
   "language": "python",
   "name": "python3"
  },
  "language_info": {
   "codemirror_mode": {
    "name": "ipython",
    "version": 3
   },
   "file_extension": ".py",
   "mimetype": "text/x-python",
   "name": "python",
   "nbconvert_exporter": "python",
   "pygments_lexer": "ipython3",
   "version": "3.12.3"
  }
 },
 "nbformat": 4,
 "nbformat_minor": 5
}
